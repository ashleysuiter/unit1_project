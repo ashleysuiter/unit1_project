{
 "cells": [
  {
   "cell_type": "markdown",
   "metadata": {},
   "source": [
    "# Author: Ashley Suiter\n",
    "##  Date: April 04, 2019"
   ]
  },
  {
   "cell_type": "markdown",
   "metadata": {},
   "source": [
    "### Challenge 1: Largest Palindrome\n",
    "A palindromic number reads the same both ways. For example, 1234321 is a palindrome. The largest palindrome made from the product of two two-digit numbers is 9009 = 91 × 99. Find the largest palindrome made from the product of two three-digit numbers.\n",
    "\n",
    "Suggested algorithm:\n",
    "\n",
    "```\n",
    "- Initialize a variable `result` to 0.\n",
    "- For each number A 100 through 999:\n",
    "    - For each number B 100 through 999:\n",
    "        - Multiply A and B.\n",
    "        - Turn that product into a string (use `str` as a function).\n",
    "        - Reverse the string (use `my_string[::-1]`).\n",
    "        - If the string and its reverse are the same and the product is\n",
    "        greater than `result`,  set `result` to that new value.\n",
    "```"
   ]
  },
  {
   "cell_type": "code",
   "execution_count": null,
   "metadata": {},
   "outputs": [],
   "source": [
    "##Initialize 'result'\n",
    "result = 0\n",
    "\n",
    "##Iterate through a, where a is 100:999\n",
    "for a in range(100,999):\n",
    "    ##Iterate through b, where b is 100:999\n",
    "    for b in range(100,999):\n",
    "        #Multiply a times b and assign to p\n",
    "        p = a*b\n",
    "        #assign p as a string to pstr\n",
    "        pstr = str(p)\n",
    "        #reverse order of pstr string\n",
    "        rpstr = pstr[::-1]\n",
    "        #compare p and rpster, if same assign to result\n",
    "        if str(p) == rpstr:\n",
    "            result = rpstr\n",
    "\n",
    "#print result\n",
    "print(result)\n",
    "        "
   ]
  },
  {
   "cell_type": "markdown",
   "metadata": {},
   "source": [
    "### Challenge 2: Summation of Primes\n",
    "The sum of the primes below 10 is 2 + 3 + 5 + 7 = 17. Find the sum of all the primes below 2,000.\n",
    "\n",
    "Suggested algorithm:\n",
    "\n",
    "```\n",
    "- Initialize an empty list of primes.\n",
    "\n",
    "- For every number A from 2 to 2,000:\n",
    "    - Set a variable `is_prime` to true.\n",
    "    - For every number B in our list of primes:\n",
    "        - If A divided by B gives no remainder, set `is_prime` to false.\n",
    "        - Optional: Use the command `break` to end the loop over primes at this point.\n",
    "    - If `is_prime` is still true, append A to our list of primes.\n",
    "    \n",
    "- Add up the primes.\n",
    "```"
   ]
  },
  {
   "cell_type": "code",
   "execution_count": 30,
   "metadata": {},
   "outputs": [
    {
     "name": "stdout",
     "output_type": "stream",
     "text": [
      "277050\n"
     ]
    }
   ],
   "source": [
    "primes = [] #Create empty list\n",
    "for a in range(2,2000):  #Iterate through numbers below 2000\n",
    "    primes.append(a) #Append each number to the primes list\n",
    "    for b in range(2,a): #iterate through all numbers between 2 and a-1\n",
    "        if a % b == 0: #If a is divisible by a number (not 1 or itself) remove from the primes list\n",
    "            primes.remove(a)\n",
    "            break\n",
    "            \n",
    "prime_sum = sum(primes) #sum all numbers in the primes list\n",
    "print(prime_sum)\n"
   ]
  },
  {
   "cell_type": "markdown",
   "metadata": {},
   "source": [
    "### Challenge 3: Multiples of 3 and 5\n",
    "If we list all of the natural numbers below 10 that are multiples of 3 or 5, we get 3, 5, 6, and 9. The sum of these multiples is 23. Find the sum of all the multiples of 3 and 5 below 1,000."
   ]
  },
  {
   "cell_type": "code",
   "execution_count": 40,
   "metadata": {},
   "outputs": [
    {
     "name": "stdout",
     "output_type": "stream",
     "text": [
      "233168\n"
     ]
    }
   ],
   "source": [
    "list = [] #Create empty list\n",
    "for i in range(1,1000): #Loop through all numbers less than 1000\n",
    "    if i%3 ==0 or i%5 ==0: #Check if number is a multiple of 3 or 5\n",
    "        list.append(i) #If the above if statement is true, add number to the list\n",
    "#print(list)\n",
    "print(sum(list)) #Print the sum of all multiples"
   ]
  },
  {
   "cell_type": "markdown",
   "metadata": {},
   "source": [
    "### Challenge 4: String Compressor\n",
    "Write a function to perform basic string compression using the counts of repeated characters. (This is called run-length encoding.) For example, the string \"aabcccccaaa\" would become a2b1c5a3. If the “compressed” string would not become smaller than the original string, your method should return the original string. You can assume the string has only uppercase and lowercase letters (a–z). Specify whether your solution is case sensitive or case insensitive and what you would need to change to make it the other.\n",
    "\n",
    "Suggested algorithm:\n",
    "\n",
    "```\n",
    "- Initialize an empty string to hold the compressed version of the input string\n",
    "- Initialize an empty string to hold the character we are currently tallying up\n",
    "- Initialize a counter variable to 0\n",
    "\n",
    "- For each letter in the input string:\n",
    "    - If that letter matches the letter we are counting, increment the counter by 1\n",
    "    - Otherwise:\n",
    "        - If the counter value is greater than 0, add the letter we have been counting\n",
    "        and its count to our compressed string\n",
    "        - Update the letter we are counting\n",
    "        - Set the counter to 1\n",
    "\n",
    "- Append the last letter we were counting and its count to our compressed string\n",
    "```\n",
    "\n",
    "**Suggestion:** Test your function on a few sample inputs. Try to come up with \"edge cases\" that might make it fail (e.g. empty strings, strings with all the same character, strings containing non-alphabetic characters, etc.)"
   ]
  },
  {
   "cell_type": "code",
   "execution_count": 51,
   "metadata": {},
   "outputs": [],
   "source": [
    "###This function will create a compressed string for strings containing UPPERCASE, lowercase, and special characters...this does not work for numeric\n",
    "def string_compress(string):\n",
    "    ##Get list of unique characters\n",
    "    unique = set(string)\n",
    "    #create empty string to store results\n",
    "    comp_string = ''\n",
    "    #iterate through list of unique characters\n",
    "    for i in unique:\n",
    "        #Get count of unique charactera and add to result string\n",
    "        comp_string += i + str(string.count(i))\n",
    "    #return the shorter between compressed string and result\n",
    "    if len(string) > len(comp_string):\n",
    "        return string\n",
    "    else:\n",
    "        return comp_string"
   ]
  },
  {
   "cell_type": "code",
   "execution_count": 53,
   "metadata": {},
   "outputs": [
    {
     "name": "stdout",
     "output_type": "stream",
     "text": [
      "e1l1s1y1!4A1a3h1\n"
     ]
    }
   ],
   "source": [
    "print(string_compress('Aaaashley!!!!'))"
   ]
  },
  {
   "cell_type": "markdown",
   "metadata": {},
   "source": [
    "### Challenge 5: FizzBuzz\n",
    "Write a program that prints all of the numbers from 1 to 100. For multiples of 3, instead of the number, print \"Fizz;\" for multiples of 5, print \"Buzz.\" For numbers that are multiples of both 3 and 5, print \"FizzBuzz.\""
   ]
  },
  {
   "cell_type": "code",
   "execution_count": null,
   "metadata": {},
   "outputs": [],
   "source": [
    "#iterate through numbers 1 through 100\n",
    "for i in range(1,101):\n",
    "    #Check if multiple of 3 and 5, if true print \"FizzBuzz\" to the console.\n",
    "    if i % 3 == 0  and i % 5== 0:\n",
    "        #print(str(i) + \": FizzBuzz\")\n",
    "        print(\"FizzBuzz\")\n",
    "    #Check if multiple of 3, if true print \"Fizz\" to the console.\n",
    "    elif i % 3== 0:\n",
    "        #print (str(i) + \": Fizz\")\n",
    "        print (\"Fizz\")\n",
    "    #Check if multiple of 5, if true print \"Buzz\" to the console.\n",
    "    elif i % 5== 0:\n",
    "        #print(str(i) + \": Buzz\")\n",
    "        print(\"Buzz\")\n",
    "    #If no checks equal true print i (1:100) to the console.\n",
    "    else: \n",
    "        print(i)"
   ]
  }
 ],
 "metadata": {
  "anaconda-cloud": {},
  "kernelspec": {
   "display_name": "Python 3",
   "language": "python",
   "name": "python3"
  },
  "language_info": {
   "codemirror_mode": {
    "name": "ipython",
    "version": 3
   },
   "file_extension": ".py",
   "mimetype": "text/x-python",
   "name": "python",
   "nbconvert_exporter": "python",
   "pygments_lexer": "ipython3",
   "version": "3.6.8"
  }
 },
 "nbformat": 4,
 "nbformat_minor": 2
}
